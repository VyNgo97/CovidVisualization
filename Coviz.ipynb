{
 "cells": [
  {
   "cell_type": "code",
   "execution_count": 1,
   "metadata": {},
   "outputs": [],
   "source": [
    "import matplotlib.pyplot as plt\n",
    "import numpy as np\n",
    "import pandas as pd\n",
    "import csv\n",
    "import datetime"
   ]
  },
  {
   "cell_type": "code",
   "execution_count": 2,
   "metadata": {
    "scrolled": true
   },
   "outputs": [],
   "source": [
    "# with open('03-31-2020.csv') as covid_data:\n",
    "#     data_reader = csv.reader(covid_data, delimiter=',')\n",
    "#     line_count = 0\n",
    "#     for row in data_reader:\n",
    "#         if line_count == 0:\n",
    "#             print(f'Column names are {\", \".join(row)}')\n",
    "#             line_count += 1\n",
    "#         else:\n",
    "#             pass"
   ]
  },
  {
   "cell_type": "code",
   "execution_count": 8,
   "metadata": {
    "scrolled": false
   },
   "outputs": [],
   "source": [
    "# df = pd.read_csv('04-10-2020.csv')\n",
    "# confirmed_df = df[df.Case_Type.str.contains('Confirmed')]\n",
    "# confirmed_df"
   ]
  },
  {
   "cell_type": "code",
   "execution_count": 4,
   "metadata": {},
   "outputs": [],
   "source": [
    "# total_cases = df['Confirmed'].sum()\n",
    "# total_recovered = df['Recovered'].sum()\n",
    "# total_deaths = df['Deaths'].sum()\n",
    "# print(f'Total cases: {total_cases}, Total recovered: {total_recovered}, Total deaths: {total_deaths}')"
   ]
  },
  {
   "cell_type": "code",
   "execution_count": 10,
   "metadata": {},
   "outputs": [],
   "source": [
    "df1 = pd.read_csv('data/time_series_covid19_confirmed_global.csv')\n",
    "confirmed_series = df1.drop(columns = ['Lat', 'Long', 'Country/Region'])\n",
    "confirmed_series = confirmed_series.iloc[0:, 1:]\n",
    "\n",
    "df2 = pd.read_csv('data/time_series_covid19_deaths_global.csv')\n",
    "death_series = df2.drop(columns = ['Lat', 'Long', 'Country/Region'])\n",
    "death_series = death_series.iloc[0:, 1:]\n",
    "\n",
    "df3 = pd.read_csv('data/time_series_covid19_recovered_global.csv')\n",
    "recovered_series = df3.drop(columns = ['Lat', 'Long', 'Country/Region'])\n",
    "recovered_series = recovered_series.iloc[0:, 1:]\n",
    "\n",
    "# dates = []\n",
    "# for columns in time_series.columns:\n",
    "#     dates.append(columns)"
   ]
  },
  {
   "cell_type": "code",
   "execution_count": 11,
   "metadata": {},
   "outputs": [
    {
     "data": {
      "image/png": "[encoded data removed]",
      "text/plain": [
       "<Figure size 432x288 with 1 Axes>"
      ]
     },
     "metadata": {},
     "output_type": "display_data"
    }
   ],
   "source": [
    "confirmed_sum_data = confirmed_series.sum()\n",
    "death_sum_data = death_series.sum()\n",
    "recovered_sum_data = recovered_series.sum()\n",
    "confirmed_sum_data.plot(color='blue')\n",
    "recovered_sum_data.plot(color='green')\n",
    "death_sum_data.plot(color='red')\n",
    "# plt.plot(confirmed_sum_data)\n",
    "plt.title('Covid-19 Cases Visualization')\n",
    "plt.legend(['Confirmed', 'Recovered', 'Deaths'])\n",
    "plt.show()"
   ]
  },
  {
   "cell_type": "code",
   "execution_count": 12,
   "metadata": {},
   "outputs": [
    {
     "name": "stdout",
     "output_type": "stream",
     "text": [
      "6070884\n",
      "6178860\n",
      "6275246\n",
      "6387981\n",
      "6515768\n",
      "6642985\n",
      "6776258\n",
      "6902782\n",
      "7015871\n",
      "7119487\n",
      "7243018\n",
      "7376659\n",
      "7515050\n",
      "7644586\n",
      "7779207\n",
      "7912752\n",
      "8034787\n",
      "8174568\n",
      "8350578\n",
      "8489604\n",
      "8670951\n",
      "8829814\n",
      "8961235\n",
      "9099271\n",
      "9264657\n",
      "9432072\n",
      "9610551\n",
      "9802294\n",
      "9980257\n",
      "10145791\n"
     ]
    }
   ],
   "source": [
    "# Change in cases daily (last 30)\n",
    "\n",
    "confirmed_history = df1.drop(columns = ['Lat', 'Long', 'Country/Region'])\n",
    "confirmed_history = confirmed_series.iloc[0:]\n",
    "confirmed_history = confirmed_history[confirmed_history.columns[-30:]]\n",
    "\n",
    "for dates in confirmed_history.columns:\n",
    "    print(confirmed_history[dates].sum())"
   ]
  },
  {
   "cell_type": "code",
   "execution_count": null,
   "metadata": {},
   "outputs": [],
   "source": []
  }
 ],
 "metadata": {
  "kernelspec": {
   "display_name": "Python 3",
   "language": "python",
   "name": "python3"
  },
  "language_info": {
   "codemirror_mode": {
    "name": "ipython",
    "version": 3
   },
   "file_extension": ".py",
   "mimetype": "text/x-python",
   "name": "python",
   "nbconvert_exporter": "python",
   "pygments_lexer": "ipython3",
   "version": "3.6.9"
  }
 },
 "nbformat": 4,
 "nbformat_minor": 2
}
